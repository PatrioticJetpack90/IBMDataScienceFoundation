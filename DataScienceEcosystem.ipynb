{
 "cells": [
  {
   "cell_type": "markdown",
   "id": "737c56d7-5454-4b42-b35f-1730ca2a599c",
   "metadata": {},
   "source": [
    "# Data Science Tools and Ecosystem #"
   ]
  },
  {
   "cell_type": "markdown",
   "id": "3c33e459-061e-4948-90cd-96bd8fa12e63",
   "metadata": {},
   "source": [
    "# In this notebook, Data Science Tools and Ecosystem are summarized"
   ]
  },
  {
   "cell_type": "markdown",
   "id": "f2162b6b-9a5e-4ac7-9507-eb622d507f82",
   "metadata": {},
   "source": [
    "# Some of the popular languages that Data Scientists use are:\n",
    "1. **Python**\n",
    "2. **SQL**\n",
    "3. **R**"
   ]
  },
  {
   "cell_type": "markdown",
   "id": "df491746-7c72-4df4-86cc-22b98df35cda",
   "metadata": {},
   "source": [
    "# Some of the commonly used libraries used by Data Scientists include:"
   ]
  },
  {
   "cell_type": "markdown",
   "id": "cedba258-683d-491e-8e4a-17691eedd381",
   "metadata": {},
   "source": [
    "1. **Numpy**- Used for numerical computing and arrays efficiently.\n",
    "2. **Pandas** - Provides data structures like DataFrames for data manipulation and analysis.3.\n",
    "3. **Matplotlib** - A plotting library used for data visulation.\n",
    "4. **Scikit-learn** - A machine learning for data mining and analysis.\n",
    "5. **TensorFlow** - An open-source library for machine learning and deep learning."
   ]
  },
  {
   "cell_type": "markdown",
   "id": "66e0039c-3ad3-434c-bf74-0d8b7815e134",
   "metadata": {},
   "source": [
    "| Data Science Tool   |\r\n",
    "----------------------|\r\n",
    "| Jupyter Notebook   |\r\n",
    "| Apache Spark       |\r\n",
    "| PyCharm         |\r\n",
    "rm |"
   ]
  },
  {
   "cell_type": "markdown",
   "id": "aa373ecd-1ae6-4064-9cc7-f50c3e882221",
   "metadata": {},
   "source": [
    "### Below are a few examples of evaluating arithmetic expressions in Python"
   ]
  },
  {
   "cell_type": "code",
   "execution_count": 1,
   "id": "abb132ff-966d-4027-b149-12298aa5febe",
   "metadata": {},
   "outputs": [
    {
     "name": "stdout",
     "output_type": "stream",
     "text": [
      "17\n"
     ]
    }
   ],
   "source": [
    "#This a simple arithmetic expression to mutiply then add integers\n",
    "print((3*4)+5)"
   ]
  },
  {
   "cell_type": "code",
   "execution_count": 2,
   "id": "c09bf51f-7ff9-4110-86a3-0245c1399193",
   "metadata": {},
   "outputs": [
    {
     "name": "stdout",
     "output_type": "stream",
     "text": [
      "3.3333333333333335\n"
     ]
    }
   ],
   "source": [
    "#This will convert 200 minutes to hours by diving by 60\n",
    "minutes = 200\n",
    "hours = 60\n",
    "\n",
    "result = minutes / hours\n",
    "\n",
    "print(result)"
   ]
  },
  {
   "cell_type": "markdown",
   "id": "dad6e3dd-d65e-4c9d-b19b-046308233a31",
   "metadata": {},
   "source": [
    "### **Objectives:**\n",
    "- Understand the importance of Data Science and its applications.\n",
    "- List popular languages for Data Science.\n",
    "- Identify key libraries and frameworks used in Data Science.\n",
    "- Explore different types of data used in analysis.\n",
    "- Learn about career opportunities in Data Science."
   ]
  },
  {
   "cell_type": "markdown",
   "id": "687fffe6-edea-4c37-b9e4-20f8b21f9dc4",
   "metadata": {},
   "source": [
    "## Author:\n",
    "Joseph Jones"
   ]
  },
  {
   "cell_type": "code",
   "execution_count": null,
   "id": "d77dfebd-0024-4dd2-9182-08935b212826",
   "metadata": {},
   "outputs": [],
   "source": []
  }
 ],
 "metadata": {
  "kernelspec": {
   "display_name": "Python 3 (ipykernel)",
   "language": "python",
   "name": "python3"
  },
  "language_info": {
   "codemirror_mode": {
    "name": "ipython",
    "version": 3
   },
   "file_extension": ".py",
   "mimetype": "text/x-python",
   "name": "python",
   "nbconvert_exporter": "python",
   "pygments_lexer": "ipython3",
   "version": "3.13.2"
  }
 },
 "nbformat": 4,
 "nbformat_minor": 5
}
